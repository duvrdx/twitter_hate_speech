{
 "cells": [
  {
   "cell_type": "code",
   "execution_count": 1,
   "id": "0a59b657",
   "metadata": {},
   "outputs": [],
   "source": [
    "import spacy\n",
    "import re\n",
    "import numpy as np\n",
    "import matplotlib.pyplot as plt\n",
    "import emoji\n",
    "import os\n",
    "import torch\n",
    "import torch.nn.functional as f\n",
    "\n",
    "from datasets import load_dataset\n",
    "from unicodedata import normalize\n",
    "from tqdm import tqdm\n",
    "from collections import Counter\n",
    "from transformers import BertTokenizer, BertForSequenceClassification\n",
    "from sklearn.metrics import accuracy_score\n",
    "from transformers import TrainingArguments, Trainer, EarlyStoppingCallback\n",
    "from datasets import Dataset\n",
    "from sklearn.metrics import classification_report, ConfusionMatrixDisplay\n",
    "\n",
    "import pandas as pd\n",
    "from sklearn.model_selection import train_test_split\n",
    "import numpy as np\n",
    "from tqdm import tqdm\n",
    "from sklearn.metrics import accuracy_score\n",
    "\n",
    "import torch\n",
    "import torch.nn as nn\n",
    "from torch.utils.data import TensorDataset, DataLoader\n",
    "from transformers import BertTokenizer, BertModel\n",
    "\n",
    "from torch.optim import Adam\n",
    "from tqdm import tqdm\n",
    "torch.cuda.empty_cache()"
   ]
  },
  {
   "cell_type": "code",
   "execution_count": 2,
   "id": "db7de8bf",
   "metadata": {
    "scrolled": true
   },
   "outputs": [
    {
     "data": {
      "text/plain": [
       "True"
      ]
     },
     "execution_count": 2,
     "metadata": {},
     "output_type": "execute_result"
    }
   ],
   "source": [
    "torch.cuda.is_available()"
   ]
  },
  {
   "cell_type": "code",
   "execution_count": 3,
   "id": "56f83938",
   "metadata": {},
   "outputs": [],
   "source": [
    "def preprocessar_tweets(tweets):\n",
    "    repetion_pattern = re.compile(r'(.)\\1\\1+')\n",
    "    new_tweets = []\n",
    "    with tqdm(total=len(tweets), colour='green', desc='Processando') as pbar:\n",
    "      for tweet in tweets:\n",
    "          tweet = emoji.demojize(tweet, language='pt')\n",
    "          tweet = tweet.replace('_', ' ')\n",
    "          tweet = normalize('NFKD', tweet).encode('ASCII', 'ignore').decode('ASCII')\n",
    "          tweet = repetion_pattern.sub(r'\\1', tweet)\n",
    "          tweet = re.sub(r'https?://\\w+', '', tweet)\n",
    "          tweet = re.sub(r'@\\w+', ' ', tweet)\n",
    "          tweet = re.sub(r'\\s\\s+', ' ', tweet)\n",
    "          new_tweets.append(tweet.strip())\n",
    "          pbar.update(1)\n",
    "    return new_tweets"
   ]
  },
  {
   "cell_type": "code",
   "execution_count": 4,
   "id": "4f9cdb35",
   "metadata": {},
   "outputs": [
    {
     "name": "stderr",
     "output_type": "stream",
     "text": [
      "Some weights of the model checkpoint at pablocosta/bertabaporu-base-uncased were not used when initializing BertForSequenceClassification: ['cls.predictions.transform.LayerNorm.bias', 'cls.seq_relationship.bias', 'cls.seq_relationship.weight', 'cls.predictions.transform.dense.weight', 'cls.predictions.decoder.weight', 'cls.predictions.transform.LayerNorm.weight', 'cls.predictions.bias', 'cls.predictions.decoder.bias', 'cls.predictions.transform.dense.bias']\n",
      "- This IS expected if you are initializing BertForSequenceClassification from the checkpoint of a model trained on another task or with another architecture (e.g. initializing a BertForSequenceClassification model from a BertForPreTraining model).\n",
      "- This IS NOT expected if you are initializing BertForSequenceClassification from the checkpoint of a model that you expect to be exactly identical (initializing a BertForSequenceClassification model from a BertForSequenceClassification model).\n",
      "Some weights of BertForSequenceClassification were not initialized from the model checkpoint at pablocosta/bertabaporu-base-uncased and are newly initialized: ['classifier.weight', 'classifier.bias']\n",
      "You should probably TRAIN this model on a down-stream task to be able to use it for predictions and inference.\n"
     ]
    }
   ],
   "source": [
    "# model_name = 'distilbert'\n",
    "# model_name = 'bert_base'\n",
    "model_name = 'bertabaporu'\n",
    "\n",
    "num_classes = 2\n",
    "\n",
    "if model_name == 'distilbert':\n",
    "  model_path = 'adalbertojunior/distilbert-portuguese-cased'\n",
    "elif model_name == 'bert_base':\n",
    "  model_path = 'neuralmind/bert-base-portuguese-cased'\n",
    "elif model_name == 'bertabaporu':\n",
    "  model_path = 'pablocosta/bertabaporu-base-uncased'\n",
    "\n",
    "tokenizer = BertTokenizer.from_pretrained(model_path)\n",
    "model = BertForSequenceClassification.from_pretrained(model_path, num_labels=num_classes)"
   ]
  },
  {
   "cell_type": "code",
   "execution_count": 5,
   "id": "3c1f5570",
   "metadata": {},
   "outputs": [
    {
     "name": "stderr",
     "output_type": "stream",
     "text": [
      "Processando: 100%|\u001b[32m█████████████████████████████████████████████████████████████\u001b[0m| 12622/12622 [00:01<00:00, 9917.78it/s]\u001b[0m\n"
     ]
    }
   ],
   "source": [
    "dataset = pd.read_csv(\"./dataset-merged/dataset_merged.csv\")\n",
    "\n",
    "\n",
    "texts = preprocessar_tweets(dataset[\"tweet\"].to_list())\n",
    "labels = dataset[\"hatespeech\"].to_list()\n",
    "\n",
    "labels = torch.tensor(labels)\n",
    "\n",
    "train_texts, test_texts, train_labels, test_labels = train_test_split(texts, labels, train_size=0.8, random_state=42)\n",
    "val_texts, test_texts, val_labels, test_labels = train_test_split(test_texts, test_labels, train_size=0.5, random_state=42)"
   ]
  },
  {
   "cell_type": "code",
   "execution_count": 6,
   "id": "ab8b655c",
   "metadata": {},
   "outputs": [],
   "source": [
    "train_dict = {'text': train_texts, 'label': train_labels}\n",
    "val_dict = {'text': val_texts, 'label': val_labels}\n",
    "test_dict = {'text': test_texts, 'label': test_labels}\n",
    "\n",
    "train_dataset = Dataset.from_dict(train_dict)\n",
    "val_dataset = Dataset.from_dict(val_dict)\n",
    "test_dataset = Dataset.from_dict(test_dict)"
   ]
  },
  {
   "cell_type": "code",
   "execution_count": 7,
   "id": "6097e1c5",
   "metadata": {},
   "outputs": [],
   "source": [
    "def tokenize_tweet(example, tokenizer, max_len):\n",
    "  return tokenizer(example['text'], padding='max_length', max_length=max_len, truncation=True)"
   ]
  },
  {
   "cell_type": "code",
   "execution_count": 8,
   "id": "1bbca193",
   "metadata": {},
   "outputs": [
    {
     "data": {
      "application/vnd.jupyter.widget-view+json": {
       "model_id": "",
       "version_major": 2,
       "version_minor": 0
      },
      "text/plain": [
       "Map:   0%|          | 0/10097 [00:00<?, ? examples/s]"
      ]
     },
     "metadata": {},
     "output_type": "display_data"
    },
    {
     "data": {
      "application/vnd.jupyter.widget-view+json": {
       "model_id": "",
       "version_major": 2,
       "version_minor": 0
      },
      "text/plain": [
       "Map:   0%|          | 0/1262 [00:00<?, ? examples/s]"
      ]
     },
     "metadata": {},
     "output_type": "display_data"
    },
    {
     "data": {
      "application/vnd.jupyter.widget-view+json": {
       "model_id": "",
       "version_major": 2,
       "version_minor": 0
      },
      "text/plain": [
       "Map:   0%|          | 0/1263 [00:00<?, ? examples/s]"
      ]
     },
     "metadata": {},
     "output_type": "display_data"
    }
   ],
   "source": [
    "max_len = 150\n",
    "batch_size = 32\n",
    "\n",
    "encoded_train_dataset = train_dataset.map(lambda t: tokenize_tweet(t, tokenizer, max_len), \\\n",
    "                                  batched=True, batch_size=batch_size)\n",
    "\n",
    "encoded_val_dataset = val_dataset.map(lambda t: tokenize_tweet(t, tokenizer, max_len), \\\n",
    "                                      batched=True, batch_size=batch_size)\n",
    "\n",
    "encoded_test_dataset = test_dataset.map(lambda t: tokenize_tweet(t, tokenizer, max_len), \n",
    "                                        batched=True, batch_size=batch_size)"
   ]
  },
  {
   "cell_type": "code",
   "execution_count": 9,
   "id": "f3709621",
   "metadata": {},
   "outputs": [],
   "source": [
    "def computar_medidas_eval(eval_pred):\n",
    "  logits, labels = eval_pred\n",
    "  predictions = np.argmax(logits, axis=-1)\n",
    "  labels = np.argmax(labels, axis=-1)\n",
    "  acc = accuracy_score(labels, predictions)\n",
    "  return {\n",
    "      'acc': acc\n",
    "  }"
   ]
  },
  {
   "cell_type": "code",
   "execution_count": 10,
   "id": "6a1ec033",
   "metadata": {},
   "outputs": [],
   "source": [
    "# Definir hiperparâmetros\n",
    "num_epochs = 10\n",
    "learning_rate = 2e-5\n",
    "device = \"cuda:1\"\n",
    "\n",
    "# Variáveis que guardarão dados\n",
    "train_losses = []\n",
    "val_accuracies = []\n",
    "\n",
    "\n",
    "# Criar DataLoader\n",
    "encoded_train_dataset.set_format(type='torch', columns=['input_ids', 'attention_mask', 'label'])\n",
    "encoded_val_dataset.set_format(type='torch', columns=['input_ids', 'attention_mask', 'label'])\n",
    "encoded_test_dataset.set_format(type='torch', columns=['input_ids', 'attention_mask', 'label'])\n",
    "\n",
    "train_dataloader = DataLoader(encoded_train_dataset, batch_size=batch_size, shuffle=True)\n",
    "val_dataloader = DataLoader(encoded_val_dataset, batch_size=batch_size)\n",
    "test_dataloader = DataLoader(encoded_test_dataset, batch_size=batch_size)\n",
    "\n",
    "# Definir otimizador e função de perda\n",
    "optimizer = Adam(model.parameters(), lr=learning_rate)\n",
    "loss_fn = nn.CrossEntropyLoss()"
   ]
  },
  {
   "cell_type": "code",
   "execution_count": 11,
   "id": "74c520d4",
   "metadata": {},
   "outputs": [],
   "source": [
    "# Função de treinamento\n",
    "def train(model, dataloader, optimizer, loss_fn):\n",
    "    model.train()\n",
    "    total_loss = 0.0\n",
    "    total_correct = 0\n",
    "    total_samples = 0\n",
    "\n",
    "    for batch in tqdm(dataloader, desc=\"Training\", leave=False):\n",
    "        input_ids = batch[\"input_ids\"].to(device)\n",
    "        attention_mask = batch[\"attention_mask\"].to(device)\n",
    "        labels = batch[\"label\"].to(device)\n",
    "\n",
    "        optimizer.zero_grad()\n",
    "\n",
    "        outputs = model(input_ids, attention_mask=attention_mask)\n",
    "        logits = outputs.logits\n",
    "        loss = loss_fn(logits, labels)\n",
    "        total_loss += loss.item()\n",
    "\n",
    "        _, predicted = torch.max(logits, dim=1)\n",
    "        total_correct += (predicted == labels).sum().item()\n",
    "        total_samples += labels.size(0)\n",
    "\n",
    "        loss.backward()\n",
    "        optimizer.step()\n",
    "\n",
    "    accuracy = total_correct / total_samples\n",
    "    return total_loss / len(dataloader), accuracy\n",
    "\n",
    "# Função de avaliação\n",
    "def evaluate(model, dataloader):\n",
    "    model.eval()\n",
    "    total_loss = 0.0\n",
    "    total_correct = 0\n",
    "    total_samples = 0\n",
    "\n",
    "    with torch.no_grad():\n",
    "        for batch in tqdm(dataloader, desc=\"Evaluating\", leave=False):\n",
    "            input_ids = batch[\"input_ids\"].to(device)\n",
    "            attention_mask = batch[\"attention_mask\"].to(device)\n",
    "            labels = batch[\"label\"].to(device)\n",
    "\n",
    "            outputs = model(input_ids, attention_mask=attention_mask)\n",
    "            logits = outputs.logits\n",
    "            loss = loss_fn(logits, labels)\n",
    "            total_loss += loss.item()\n",
    "\n",
    "            _, predicted = torch.max(logits, dim=1)\n",
    "            total_correct += (predicted == labels).sum().item()\n",
    "            total_samples += labels.size(0)\n",
    "\n",
    "    accuracy = total_correct / total_samples\n",
    "    return total_loss / len(dataloader), accuracy\n",
    "\n"
   ]
  },
  {
   "cell_type": "code",
   "execution_count": 12,
   "id": "5f77e066",
   "metadata": {},
   "outputs": [
    {
     "name": "stderr",
     "output_type": "stream",
     "text": [
      "                                                                                                                       \r"
     ]
    },
    {
     "name": "stdout",
     "output_type": "stream",
     "text": [
      "Epoch 1/10\n",
      "Train Loss: 0.4304 | Train Accuracy: 0.8011\n",
      "Validation Loss: 0.4161 | Validation Accuracy: 0.8154\n"
     ]
    },
    {
     "name": "stderr",
     "output_type": "stream",
     "text": [
      "                                                                                                                       \r"
     ]
    },
    {
     "name": "stdout",
     "output_type": "stream",
     "text": [
      "Epoch 2/10\n",
      "Train Loss: 0.3029 | Train Accuracy: 0.8687\n",
      "Validation Loss: 0.3963 | Validation Accuracy: 0.8281\n"
     ]
    },
    {
     "name": "stderr",
     "output_type": "stream",
     "text": [
      "                                                                                                                       \r"
     ]
    },
    {
     "name": "stdout",
     "output_type": "stream",
     "text": [
      "Epoch 3/10\n",
      "Train Loss: 0.1789 | Train Accuracy: 0.9272\n",
      "Validation Loss: 0.5399 | Validation Accuracy: 0.8122\n"
     ]
    },
    {
     "name": "stderr",
     "output_type": "stream",
     "text": [
      "                                                                                                                       \r"
     ]
    },
    {
     "name": "stdout",
     "output_type": "stream",
     "text": [
      "Epoch 4/10\n",
      "Train Loss: 0.0801 | Train Accuracy: 0.9712\n",
      "Validation Loss: 0.7113 | Validation Accuracy: 0.7987\n"
     ]
    },
    {
     "name": "stderr",
     "output_type": "stream",
     "text": [
      "                                                                                                                       \r"
     ]
    },
    {
     "name": "stdout",
     "output_type": "stream",
     "text": [
      "Epoch 5/10\n",
      "Train Loss: 0.0482 | Train Accuracy: 0.9845\n",
      "Validation Loss: 0.9173 | Validation Accuracy: 0.8043\n"
     ]
    },
    {
     "name": "stderr",
     "output_type": "stream",
     "text": [
      "                                                                                                                       \r"
     ]
    },
    {
     "name": "stdout",
     "output_type": "stream",
     "text": [
      "Epoch 6/10\n",
      "Train Loss: 0.0362 | Train Accuracy: 0.9874\n",
      "Validation Loss: 0.7575 | Validation Accuracy: 0.8114\n"
     ]
    },
    {
     "name": "stderr",
     "output_type": "stream",
     "text": [
      "                                                                                                                       \r"
     ]
    },
    {
     "name": "stdout",
     "output_type": "stream",
     "text": [
      "Epoch 7/10\n",
      "Train Loss: 0.0280 | Train Accuracy: 0.9911\n",
      "Validation Loss: 1.0319 | Validation Accuracy: 0.8138\n"
     ]
    },
    {
     "name": "stderr",
     "output_type": "stream",
     "text": [
      "                                                                                                                       \r"
     ]
    },
    {
     "name": "stdout",
     "output_type": "stream",
     "text": [
      "Epoch 8/10\n",
      "Train Loss: 0.0176 | Train Accuracy: 0.9943\n",
      "Validation Loss: 0.9753 | Validation Accuracy: 0.8106\n"
     ]
    },
    {
     "name": "stderr",
     "output_type": "stream",
     "text": [
      "                                                                                                                       \r"
     ]
    },
    {
     "name": "stdout",
     "output_type": "stream",
     "text": [
      "Epoch 9/10\n",
      "Train Loss: 0.0173 | Train Accuracy: 0.9943\n",
      "Validation Loss: 1.1145 | Validation Accuracy: 0.8098\n"
     ]
    },
    {
     "name": "stderr",
     "output_type": "stream",
     "text": [
      "                                                                                                                       "
     ]
    },
    {
     "name": "stdout",
     "output_type": "stream",
     "text": [
      "Epoch 10/10\n",
      "Train Loss: 0.0187 | Train Accuracy: 0.9936\n",
      "Validation Loss: 1.0255 | Validation Accuracy: 0.8114\n"
     ]
    },
    {
     "name": "stderr",
     "output_type": "stream",
     "text": [
      "\r"
     ]
    }
   ],
   "source": [
    "model.to(device)\n",
    "\n",
    "# Loop de treinamento\n",
    "train_losses = []\n",
    "train_accuracies = []\n",
    "val_losses = []\n",
    "val_accuracies = []\n",
    "best_accuracy = 0.0\n",
    "\n",
    "for epoch in range(num_epochs):\n",
    "    train_loss, train_accuracy = train(model, train_dataloader, optimizer, loss_fn)\n",
    "    val_loss, val_accuracy = evaluate(model, val_dataloader)\n",
    "\n",
    "    train_losses.append(train_loss)\n",
    "    train_accuracies.append(train_accuracy)\n",
    "    val_losses.append(val_loss)\n",
    "    val_accuracies.append(val_accuracy)\n",
    "\n",
    "    print(f\"Epoch {epoch+1}/{num_epochs}\")\n",
    "    print(f\"Train Loss: {train_loss:.4f} | Train Accuracy: {train_accuracy:.4f}\")\n",
    "    print(f\"Validation Loss: {val_loss:.4f} | Validation Accuracy: {val_accuracy:.4f}\")\n",
    "\n",
    "    if val_accuracy > best_accuracy:\n",
    "        best_accuracy = val_accuracy\n",
    "        torch.save(model.state_dict(), f\"{model_name}_{batch_size}_{num_epochs}.pt\")"
   ]
  },
  {
   "cell_type": "code",
   "execution_count": 13,
   "id": "4e044c6b",
   "metadata": {},
   "outputs": [
    {
     "data": {
      "image/png": "[encoded data removed]",
      "text/plain": [
       "<Figure size 640x480 with 1 Axes>"
      ]
     },
     "metadata": {},
     "output_type": "display_data"
    },
    {
     "data": {
      "image/png": "[encoded data removed]",
      "text/plain": [
       "<Figure size 640x480 with 1 Axes>"
      ]
     },
     "metadata": {},
     "output_type": "display_data"
    }
   ],
   "source": [
    "# Gráfico de perda de treinamento e perda de validação\n",
    "plt.plot(train_losses, label=\"Training Loss\")\n",
    "plt.plot(val_losses, label=\"Validation Loss\")\n",
    "plt.xlabel(\"Epoch\")\n",
    "plt.ylabel(\"Loss\")\n",
    "plt.title(\"Training and Validation Loss\")\n",
    "plt.legend()\n",
    "plt.show()\n",
    "\n",
    "# Gráfico de acurácia de treinamento e acurácia de validação\n",
    "plt.plot(train_accuracies, label=\"Training Accuracy\")\n",
    "plt.plot(val_accuracies, label=\"Validation Accuracy\")\n",
    "plt.xlabel(\"Epoch\")\n",
    "plt.ylabel(\"Accuracy\")\n",
    "plt.title(\"Training and Validation Accuracy\")\n",
    "plt.legend()\n",
    "plt.show()"
   ]
  },
  {
   "cell_type": "code",
   "execution_count": 14,
   "id": "b3fa2866",
   "metadata": {},
   "outputs": [
    {
     "name": "stderr",
     "output_type": "stream",
     "text": [
      "                                                                                                                       "
     ]
    },
    {
     "name": "stdout",
     "output_type": "stream",
     "text": [
      "Test Loss: 0.3811 | Test Accuracy: 0.8290\n"
     ]
    },
    {
     "name": "stderr",
     "output_type": "stream",
     "text": [
      "\r"
     ]
    }
   ],
   "source": [
    "# Carregar o modelo com a melhor acurácia no conjunto de validação\n",
    "model.load_state_dict(torch.load(f\"{model_name}_{batch_size}_{num_epochs}.pt\", map_location=device))\n",
    "\n",
    "# Avaliar o modelo no conjunto de teste\n",
    "test_loss, test_accuracy = evaluate(model, test_dataloader)\n",
    "print(f\"Test Loss: {test_loss:.4f} | Test Accuracy: {test_accuracy:.4f}\")\n"
   ]
  },
  {
   "cell_type": "code",
   "execution_count": null,
   "id": "04de027f",
   "metadata": {},
   "outputs": [],
   "source": []
  },
  {
   "cell_type": "code",
   "execution_count": null,
   "id": "32e7c3e4",
   "metadata": {},
   "outputs": [],
   "source": []
  }
 ],
 "metadata": {
  "kernelspec": {
   "display_name": "Python 3 (ipykernel)",
   "language": "python",
   "name": "python3"
  },
  "language_info": {
   "codemirror_mode": {
    "name": "ipython",
    "version": 3
   },
   "file_extension": ".py",
   "mimetype": "text/x-python",
   "name": "python",
   "nbconvert_exporter": "python",
   "pygments_lexer": "ipython3",
   "version": "3.10.11"
  }
 },
 "nbformat": 4,
 "nbformat_minor": 5
}
