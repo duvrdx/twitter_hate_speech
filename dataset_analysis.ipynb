{
 "cells": [
  {
   "cell_type": "code",
   "execution_count": 1,
   "metadata": {},
   "outputs": [],
   "source": [
    "import pandas as pd\n",
    "import os\n",
    "\n",
    "dataset_path = \"dataset\""
   ]
  },
  {
   "attachments": {},
   "cell_type": "markdown",
   "metadata": {},
   "source": [
    "### Arquivos presentes no Dataset"
   ]
  },
  {
   "cell_type": "code",
   "execution_count": 2,
   "metadata": {},
   "outputs": [
    {
     "name": "stdout",
     "output_type": "stream",
     "text": [
      "graphhierarchicalclasses.csv\n",
      "annotatorclasses.csv\n",
      "datasetdummyclasses.csv\n"
     ]
    }
   ],
   "source": [
    "for item in os.listdir(dataset_path):\n",
    "    print(item)"
   ]
  },
  {
   "attachments": {},
   "cell_type": "markdown",
   "metadata": {},
   "source": [
    "#### Analisando o conteúdo de cada arquivo"
   ]
  },
  {
   "cell_type": "code",
   "execution_count": 3,
   "metadata": {},
   "outputs": [
    {
     "name": "stdout",
     "output_type": "stream",
     "text": [
      "F0 -----------------------------++>\n",
      "2 Columns:  Source Target\n",
      "F1 -----------------------------++>\n",
      "2 Columns:  tweet_id class\n",
      "F2 -----------------------------++>\n",
      "80 Columns:  tweet_id Hate.speech Sexism Body Racism Ideology Homophobia Origin Religion Health OtherLifestyle Aborting.women Agnostic Argentines Asians Autists Black.Women Blond.women Brazilians.women Chinese Criminals Egyptians Fat.people Football.players.women Gamers Homeless Homeless.women Indigenous Iranians Japaneses Jews Jornalists Latins Left.wing.ideology Men.Feminists Mexicans Muslims.women Nordestines Old.people Polyamorous Poor.people Rural.people Russians Sertanejos Street.artist Ucranians Vegetarians White.people Young.people Old.women Ugly.people Venezuelans Angolans Black.people Disabled.people Fat.women Feminists Gays Immigrants Islamists Lesbians Men Muslims Refugees Trans.women Travestis Women Bissexuals Transexuals Ugly.women Thin.women Arabic East.europeans Africans South.Americans Brazilians Migrants Homossexuals Thin.people Ageing\n"
     ]
    }
   ],
   "source": [
    "dataframes = [pd.read_csv(os.path.join(dataset_path, item)) for item in os.listdir(dataset_path)]\n",
    "\n",
    "for pos, df in enumerate(dataframes):\n",
    "    columns_str = \"\"\n",
    "    for column in df.columns:\n",
    "        columns_str += \" \" + column\n",
    "    print(f\"F{pos} -----------------------------++>\")\n",
    "    print(f\"{len(df.columns)} Columns: {columns_str}\")\n"
   ]
  },
  {
   "cell_type": "markdown",
   "metadata": {},
   "source": []
  }
 ],
 "metadata": {
  "kernelspec": {
   "display_name": "base",
   "language": "python",
   "name": "python3"
  },
  "language_info": {
   "codemirror_mode": {
    "name": "ipython",
    "version": 3
   },
   "file_extension": ".py",
   "mimetype": "text/x-python",
   "name": "python",
   "nbconvert_exporter": "python",
   "pygments_lexer": "ipython3",
   "version": "3.9.12"
  },
  "orig_nbformat": 4,
  "vscode": {
   "interpreter": {
    "hash": "d92e41e07957c2bbe762007c8fab230fc6aac36b568b6f8fb0726a2fe21477f2"
   }
  }
 },
 "nbformat": 4,
 "nbformat_minor": 2
}
