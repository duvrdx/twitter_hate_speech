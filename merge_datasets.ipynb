{
 "cells": [
  {
   "cell_type": "code",
   "execution_count": 1,
   "metadata": {},
   "outputs": [],
   "source": [
    "import pandas as pd\n",
    "import os"
   ]
  },
  {
   "attachments": {},
   "cell_type": "markdown",
   "metadata": {},
   "source": [
    "Dataset A => hate_speech_portuguese\n",
    "Dataset B => OLID-BR"
   ]
  },
  {
   "attachments": {},
   "cell_type": "markdown",
   "metadata": {},
   "source": [
    "### Dataset A"
   ]
  },
  {
   "cell_type": "code",
   "execution_count": 50,
   "metadata": {},
   "outputs": [
    {
     "name": "stderr",
     "output_type": "stream",
     "text": [
      "Found cached dataset hate_speech_portuguese (C:/Users/vinicius/.cache/huggingface/datasets/hate_speech_portuguese/default/1.0.0/20ad7529b5939c566862ef7d6753aa52f92c45aed182decf84abec62c7894062)\n",
      "100%|██████████| 1/1 [00:00<00:00, 499.56it/s]\n"
     ]
    }
   ],
   "source": [
    "from datasets import load_dataset\n",
    "\n",
    "dataset = load_dataset(\"hate_speech_portuguese\")"
   ]
  },
  {
   "cell_type": "code",
   "execution_count": 71,
   "metadata": {},
   "outputs": [
    {
     "name": "stdout",
     "output_type": "stream",
     "text": [
      "Número de linhas: 5670\n",
      "Número de colunas: 2\n"
     ]
    },
    {
     "data": {
      "text/plain": [
       "0    3882\n",
       "1    1788\n",
       "Name: hatespeech, dtype: int64"
      ]
     },
     "execution_count": 71,
     "metadata": {},
     "output_type": "execute_result"
    }
   ],
   "source": [
    "tweets_train = dataset['train']['text']\n",
    "labels_train = dataset['train']['label']\n",
    "\n",
    "# Criar o dataframe\n",
    "df_A = pd.DataFrame()\n",
    "\n",
    "# Adicionar a coluna \"tweet\" ao dataframe\n",
    "df_A['tweet'] = tweets_train\n",
    "\n",
    "# Adicionar a coluna \"hatespeech\" ao dataframe\n",
    "df_A['hatespeech'] = labels_train\n",
    "\n",
    "size = df_A.shape\n",
    "\n",
    "# Exibir o tamanho do DataFrame\n",
    "print('Número de linhas:', size[0])\n",
    "print('Número de colunas:', size[1])\n",
    "\n",
    "count_tags = df_A['hatespeech'].value_counts()\n",
    "count_tags"
   ]
  },
  {
   "attachments": {},
   "cell_type": "markdown",
   "metadata": {},
   "source": [
    "### Dataset B"
   ]
  },
  {
   "cell_type": "code",
   "execution_count": 63,
   "metadata": {},
   "outputs": [],
   "source": [
    "dataset_path = \"dataset-v2\"\n",
    "\n",
    "csv_list = []\n",
    "\n",
    "for item in os.listdir(dataset_path):\n",
    "    if item.endswith(\".csv\"):\n",
    "        csv_list.append(item)\n",
    "\n",
    "\n",
    "dataframes = [pd.read_csv(os.path.join(dataset_path, item)) for item in csv_list]"
   ]
  },
  {
   "cell_type": "code",
   "execution_count": 64,
   "metadata": {},
   "outputs": [],
   "source": [
    "dataframes_merged = pd.concat([dataframes[0], dataframes[2]])"
   ]
  },
  {
   "cell_type": "code",
   "execution_count": 69,
   "metadata": {},
   "outputs": [
    {
     "name": "stdout",
     "output_type": "stream",
     "text": [
      "Número de linhas: 6952\n",
      "Número de colunas: 2\n",
      "1    5936\n",
      "0    1016\n",
      "Name: hatespeech, dtype: int64\n"
     ]
    }
   ],
   "source": [
    "# Filtrar as colunas do dataframes_merged\n",
    "df_B = dataframes_merged[['text', 'is_offensive']].copy()\n",
    "\n",
    "# Renomear as colunas no dataframe existente\n",
    "df_B.rename(columns={'text': 'tweet', 'is_offensive': 'hatespeech'}, inplace=True)\n",
    "\n",
    "# Substituir os valores na coluna \"hatespeech\"\n",
    "df_B['hatespeech'] = df_B['hatespeech'].replace({'OFF': 1, 'NOT': 0})\n",
    "\n",
    "# Obter o tamanho do DataFrame\n",
    "size = df_B.shape\n",
    "\n",
    "# Exibir o tamanho do DataFrame\n",
    "print('Número de linhas:', size[0])\n",
    "print('Número de colunas:', size[1])\n",
    "\n",
    "# Contagem dos valores na coluna \"hatespeech\"\n",
    "count_tags = df_B['hatespeech'].value_counts()\n",
    "print(count_tags)\n"
   ]
  },
  {
   "attachments": {},
   "cell_type": "markdown",
   "metadata": {},
   "source": [
    "### Fusão dos datasets A e B"
   ]
  },
  {
   "cell_type": "code",
   "execution_count": 77,
   "metadata": {},
   "outputs": [
    {
     "data": {
      "text/html": [
       "<div>\n",
       "<style scoped>\n",
       "    .dataframe tbody tr th:only-of-type {\n",
       "        vertical-align: middle;\n",
       "    }\n",
       "\n",
       "    .dataframe tbody tr th {\n",
       "        vertical-align: top;\n",
       "    }\n",
       "\n",
       "    .dataframe thead th {\n",
       "        text-align: right;\n",
       "    }\n",
       "</style>\n",
       "<table border=\"1\" class=\"dataframe\">\n",
       "  <thead>\n",
       "    <tr style=\"text-align: right;\">\n",
       "      <th></th>\n",
       "      <th>tweet</th>\n",
       "      <th>hatespeech</th>\n",
       "    </tr>\n",
       "  </thead>\n",
       "  <tbody>\n",
       "    <tr>\n",
       "      <th>0</th>\n",
       "      <td>@__andrea__b O cara vive em outro mundoNão no ...</td>\n",
       "      <td>1</td>\n",
       "    </tr>\n",
       "    <tr>\n",
       "      <th>1</th>\n",
       "      <td>@_carmeloneto Estes incompetentes não cuidam n...</td>\n",
       "      <td>0</td>\n",
       "    </tr>\n",
       "    <tr>\n",
       "      <th>2</th>\n",
       "      <td>@_carmeloneto Os 'cumpanhero' quebraram todas ...</td>\n",
       "      <td>0</td>\n",
       "    </tr>\n",
       "    <tr>\n",
       "      <th>3</th>\n",
       "      <td>@_GlitteryKisses é isso não conseguem pensar n...</td>\n",
       "      <td>0</td>\n",
       "    </tr>\n",
       "    <tr>\n",
       "      <th>4</th>\n",
       "      <td>@_iglira bom dia macaco branco haha</td>\n",
       "      <td>1</td>\n",
       "    </tr>\n",
       "    <tr>\n",
       "      <th>...</th>\n",
       "      <td>...</td>\n",
       "      <td>...</td>\n",
       "    </tr>\n",
       "    <tr>\n",
       "      <th>5209</th>\n",
       "      <td>eu odeio quando fazem isso cmg, e quando fazem...</td>\n",
       "      <td>1</td>\n",
       "    </tr>\n",
       "    <tr>\n",
       "      <th>5210</th>\n",
       "      <td>juliana aprende a escrever!! \"MAIS USER\" kkkk ...</td>\n",
       "      <td>0</td>\n",
       "    </tr>\n",
       "    <tr>\n",
       "      <th>5211</th>\n",
       "      <td>USER USER USER, achei um pouco de RACISMO cham...</td>\n",
       "      <td>0</td>\n",
       "    </tr>\n",
       "    <tr>\n",
       "      <th>5212</th>\n",
       "      <td>Um doente me reconheceu e me chamou bem alto n...</td>\n",
       "      <td>1</td>\n",
       "    </tr>\n",
       "    <tr>\n",
       "      <th>5213</th>\n",
       "      <td>Um papo de quem sabe e uma pesso cabeca dura</td>\n",
       "      <td>0</td>\n",
       "    </tr>\n",
       "  </tbody>\n",
       "</table>\n",
       "<p>12622 rows × 2 columns</p>\n",
       "</div>"
      ],
      "text/plain": [
       "                                                  tweet  hatespeech\n",
       "0     @__andrea__b O cara vive em outro mundoNão no ...           1\n",
       "1     @_carmeloneto Estes incompetentes não cuidam n...           0\n",
       "2     @_carmeloneto Os 'cumpanhero' quebraram todas ...           0\n",
       "3     @_GlitteryKisses é isso não conseguem pensar n...           0\n",
       "4                   @_iglira bom dia macaco branco haha           1\n",
       "...                                                 ...         ...\n",
       "5209  eu odeio quando fazem isso cmg, e quando fazem...           1\n",
       "5210  juliana aprende a escrever!! \"MAIS USER\" kkkk ...           0\n",
       "5211  USER USER USER, achei um pouco de RACISMO cham...           0\n",
       "5212  Um doente me reconheceu e me chamou bem alto n...           1\n",
       "5213       Um papo de quem sabe e uma pesso cabeca dura           0\n",
       "\n",
       "[12622 rows x 2 columns]"
      ]
     },
     "execution_count": 77,
     "metadata": {},
     "output_type": "execute_result"
    }
   ],
   "source": [
    "dataframes_merged = pd.concat([df_A, df_B])\n",
    "# Limpar os caracteres \"\\n\" na coluna \"text\"\n",
    "dataframes_merged['tweet'] = dataframes_merged['tweet'].replace('\\n', '', regex=True)\n",
    "dataframes_merged"
   ]
  },
  {
   "cell_type": "code",
   "execution_count": 78,
   "metadata": {},
   "outputs": [
    {
     "data": {
      "text/plain": [
       "1    7724\n",
       "0    4898\n",
       "Name: hatespeech, dtype: int64"
      ]
     },
     "execution_count": 78,
     "metadata": {},
     "output_type": "execute_result"
    }
   ],
   "source": [
    "count_tags = dataframes_merged['hatespeech'].value_counts()\n",
    "count_tags"
   ]
  },
  {
   "cell_type": "code",
   "execution_count": 79,
   "metadata": {},
   "outputs": [],
   "source": [
    "dataframes_merged.to_csv('dataset-merged/dataset_merged.csv', index=False)"
   ]
  }
 ],
 "metadata": {
  "kernelspec": {
   "display_name": "Python 3",
   "language": "python",
   "name": "python3"
  },
  "language_info": {
   "codemirror_mode": {
    "name": "ipython",
    "version": 3
   },
   "file_extension": ".py",
   "mimetype": "text/x-python",
   "name": "python",
   "nbconvert_exporter": "python",
   "pygments_lexer": "ipython3",
   "version": "3.10.2"
  },
  "orig_nbformat": 4
 },
 "nbformat": 4,
 "nbformat_minor": 2
}
