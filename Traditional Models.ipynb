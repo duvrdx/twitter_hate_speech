{
 "cells": [
  {
   "cell_type": "code",
   "execution_count": 1,
   "id": "c7d0d61e",
   "metadata": {},
   "outputs": [],
   "source": [
    "import pandas as pd\n",
    "from sklearn.model_selection import train_test_split\n",
    "from sklearn.metrics import accuracy_score, f1_score\n",
    "from sentence_transformers import SentenceTransformer\n",
    "from sklearn.linear_model import LogisticRegression\n",
    "from sklearn.naive_bayes import MultinomialNB, CategoricalNB\n",
    "from sklearn.feature_extraction.text import CountVectorizer\n",
    "from sklearn.pipeline import Pipeline\n",
    "\n",
    "import spacy\n",
    "import re\n",
    "import numpy as np\n",
    "import matplotlib.pyplot as plt\n",
    "import emoji\n",
    "\n",
    "from unicodedata import normalize\n",
    "from tqdm import tqdm\n",
    "from collections import Counter\n",
    "from sklearn.feature_extraction.text import CountVectorizer, TfidfVectorizer\n",
    "from sklearn.linear_model import LogisticRegression\n",
    "from sklearn.naive_bayes import MultinomialNB\n",
    "from sklearn.svm import SVC\n",
    "from sklearn.tree import DecisionTreeClassifier\n",
    "from sklearn.neighbors import KNeighborsClassifier\n",
    "from sklearn.ensemble import RandomForestClassifier\n",
    "from xgboost import XGBClassifier\n",
    "from sklearn.metrics import classification_report, ConfusionMatrixDisplay\n",
    "from datasets import list_datasets, load_dataset"
   ]
  },
  {
   "cell_type": "code",
   "execution_count": 4,
   "id": "4097d6bb",
   "metadata": {},
   "outputs": [],
   "source": [
    "def preprocessar(tweets):\n",
    "    repetion_pattern = re.compile(r'(.)\\1\\1+')\n",
    "    new_tweets = []\n",
    "    with tqdm(total=len(tweets), colour='green', desc='Processando') as pbar:\n",
    "      for tweet in tweets:\n",
    "          tweet = emoji.demojize(tweet, language='pt')\n",
    "          tweet = tweet.replace('_', ' ')\n",
    "          tweet = normalize('NFKD', tweet).encode('ASCII', 'ignore').decode('ASCII')\n",
    "          tweet = repetion_pattern.sub(r'\\1', tweet)\n",
    "          tweet = re.sub(r'https?://\\w+', '', tweet)\n",
    "          tweet = re.sub(r'@\\w+', ' ', tweet)\n",
    "          tweet = re.sub(r'\\s\\s+', ' ', tweet)\n",
    "          new_tweets.append(tweet.strip())\n",
    "          pbar.update(1)\n",
    "    return new_tweets"
   ]
  },
  {
   "cell_type": "code",
   "execution_count": 24,
   "id": "2d5b3d6e",
   "metadata": {},
   "outputs": [
    {
     "name": "stderr",
     "output_type": "stream",
     "text": [
      "Processando: 100%|\u001b[32m█████████████████████████████████████████████████████████████\u001b[0m| 12622/12622 [00:01<00:00, 9719.03it/s]\u001b[0m\n"
     ]
    }
   ],
   "source": [
    "# Carregar os dados\n",
    "data = pd.read_csv('./dataset-merged/dataset_merged.csv')  # Seu arquivo de dados\n",
    "\n",
    "# Dividir os dados em treinamento, teste\n",
    "texts = data[\"tweet\"].to_list()\n",
    "labels = data[\"hatespeech\"].to_list()\n",
    "\n",
    "X_train, X_test, y_train, y_test = train_test_split(preprocessar(texts), labels, test_size=0.33, random_state=42)"
   ]
  },
  {
   "cell_type": "code",
   "execution_count": 25,
   "id": "11d8931d",
   "metadata": {},
   "outputs": [
    {
     "name": "stdout",
     "output_type": "stream",
     "text": [
      "Vocabulary: 19193\n"
     ]
    }
   ],
   "source": [
    "#vectorizer = CountVectorizer(binary=True, max_features=None, ngram_range=(1, 1))\n",
    "#vectorizer = CountVectorizer(binary=False, max_features=None, ngram_range=(1, 1))\n",
    "vectorizer = TfidfVectorizer(max_features=None, ngram_range=(1, 1))\n",
    "\n",
    "vectorizer.fit(X_train)\n",
    "\n",
    "print(f'Vocabulary: {len(vectorizer.vocabulary_)}')\n",
    "X_train = vectorizer.transform(X_train).toarray()\n",
    "X_test = vectorizer.transform(X_test).toarray()"
   ]
  },
  {
   "cell_type": "code",
   "execution_count": 26,
   "id": "ead4e016",
   "metadata": {},
   "outputs": [],
   "source": [
    "classifiers = {\n",
    "    'Logistic Regression': LogisticRegression(class_weight=None, max_iter=1500),\n",
    "    'Multinomial NB': MultinomialNB(),\n",
    "    'KNN': KNeighborsClassifier(),\n",
    "    'Decision Tree': DecisionTreeClassifier(class_weight=None),\n",
    "    'XGBClassifier': XGBClassifier(n_estimators=100),\n",
    "    'Random Forest': RandomForestClassifier(n_estimators=100, class_weight=None)\n",
    "}"
   ]
  },
  {
   "cell_type": "code",
   "execution_count": 27,
   "id": "892d2142",
   "metadata": {},
   "outputs": [
    {
     "name": "stdout",
     "output_type": "stream",
     "text": [
      "\n",
      "Evaluation\n",
      "\n",
      "\n",
      "  Classifier: Logistic Regression\n",
      "\n",
      "              precision    recall  f1-score   support\n",
      "\n",
      "           0       0.76      0.62      0.69      1596\n",
      "           1       0.79      0.88      0.83      2570\n",
      "\n",
      "    accuracy                           0.78      4166\n",
      "   macro avg       0.78      0.75      0.76      4166\n",
      "weighted avg       0.78      0.78      0.78      4166\n",
      "\n",
      "\n",
      "  Classifier: Multinomial NB\n",
      "\n",
      "              precision    recall  f1-score   support\n",
      "\n",
      "           0       0.85      0.26      0.40      1596\n",
      "           1       0.68      0.97      0.80      2570\n",
      "\n",
      "    accuracy                           0.70      4166\n",
      "   macro avg       0.77      0.62      0.60      4166\n",
      "weighted avg       0.75      0.70      0.65      4166\n",
      "\n",
      "\n",
      "  Classifier: KNN\n",
      "\n",
      "              precision    recall  f1-score   support\n",
      "\n",
      "           0       0.62      0.52      0.56      1596\n",
      "           1       0.73      0.80      0.76      2570\n",
      "\n",
      "    accuracy                           0.69      4166\n",
      "   macro avg       0.67      0.66      0.66      4166\n",
      "weighted avg       0.68      0.69      0.68      4166\n",
      "\n",
      "\n",
      "  Classifier: Decision Tree\n",
      "\n",
      "              precision    recall  f1-score   support\n",
      "\n",
      "           0       0.60      0.59      0.59      1596\n",
      "           1       0.75      0.76      0.75      2570\n",
      "\n",
      "    accuracy                           0.69      4166\n",
      "   macro avg       0.67      0.67      0.67      4166\n",
      "weighted avg       0.69      0.69      0.69      4166\n",
      "\n",
      "\n",
      "  Classifier: XGBClassifier\n",
      "\n",
      "              precision    recall  f1-score   support\n",
      "\n",
      "           0       0.73      0.66      0.69      1596\n",
      "           1       0.80      0.85      0.82      2570\n",
      "\n",
      "    accuracy                           0.77      4166\n",
      "   macro avg       0.76      0.75      0.76      4166\n",
      "weighted avg       0.77      0.77      0.77      4166\n",
      "\n",
      "\n",
      "  Classifier: Random Forest\n",
      "\n",
      "              precision    recall  f1-score   support\n",
      "\n",
      "           0       0.75      0.60      0.66      1596\n",
      "           1       0.78      0.88      0.82      2570\n",
      "\n",
      "    accuracy                           0.77      4166\n",
      "   macro avg       0.76      0.74      0.74      4166\n",
      "weighted avg       0.77      0.77      0.76      4166\n",
      "\n"
     ]
    }
   ],
   "source": [
    "print('\\nEvaluation\\n')\n",
    "\n",
    "for clf_name, clf in classifiers.items():   \n",
    "    print(f'\\n  Classifier: {clf_name}\\n')\n",
    "    clf.fit(X_train, y_train)\n",
    "    y_pred = clf.predict(X_test)\n",
    "    report = classification_report(y_test, y_pred, zero_division=0)\n",
    "    print(report)"
   ]
  },
  {
   "cell_type": "code",
   "execution_count": null,
   "id": "4ac3defc",
   "metadata": {},
   "outputs": [],
   "source": []
  }
 ],
 "metadata": {
  "kernelspec": {
   "display_name": "Python 3 (ipykernel)",
   "language": "python",
   "name": "python3"
  },
  "language_info": {
   "codemirror_mode": {
    "name": "ipython",
    "version": 3
   },
   "file_extension": ".py",
   "mimetype": "text/x-python",
   "name": "python",
   "nbconvert_exporter": "python",
   "pygments_lexer": "ipython3",
   "version": "3.10.11"
  }
 },
 "nbformat": 4,
 "nbformat_minor": 5
}
